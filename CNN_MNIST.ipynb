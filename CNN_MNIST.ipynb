{
 "cells": [
  {
   "cell_type": "markdown",
   "id": "322bc803-85b8-44f2-913a-d90b57189c93",
   "metadata": {},
   "source": [
    "### CNN on MNIST"
   ]
  },
  {
   "cell_type": "code",
   "execution_count": 1,
   "id": "9a497de1-4bba-469e-b3cd-03d69872ac70",
   "metadata": {},
   "outputs": [],
   "source": [
    "import torch\n",
    "from torch import nn\n",
    "from torch import optim\n",
    "from torch.utils.data import DataLoader\n",
    "\n",
    "from torchvision import transforms\n",
    "from torchvision import datasets\n",
    "\n",
    "from matplotlib import pyplot as plt\n",
    "\n",
    "import pandas as pd\n",
    "import numpy as np\n",
    "\n",
    "device = torch.device('cuda' if torch.cuda.is_available() else 'cpu')"
   ]
  },
  {
   "cell_type": "code",
   "execution_count": 2,
   "id": "bff29c72-47bd-41ba-9fc0-0dd16a9763ca",
   "metadata": {},
   "outputs": [],
   "source": [
    "# Hyper\n",
    "n_epochs = 10\n",
    "batch_size = 200\n",
    "lr = 0.001"
   ]
  },
  {
   "cell_type": "code",
   "execution_count": 3,
   "id": "eaedf8f5-28a3-46b7-9b93-0517d273a135",
   "metadata": {},
   "outputs": [],
   "source": [
    "train_data = datasets.MNIST(root='./data',\n",
    "                            train=True,\n",
    "                            transform=transforms.ToTensor(),\n",
    "                            download=True)\n",
    "\n",
    "test_data  = datasets.MNIST(root='./data',\n",
    "                            train=False,\n",
    "                            transform=transforms.ToTensor(),\n",
    "                            download=True)\n",
    "\n",
    "train_load = DataLoader(train_data,\n",
    "                        batch_size=batch_size,\n",
    "                        shuffle=True)\n",
    "\n",
    "test_load  = DataLoader(test_data,\n",
    "                        batch_size=batch_size,\n",
    "                        shuffle=True)"
   ]
  },
  {
   "cell_type": "code",
   "execution_count": 4,
   "id": "51bb68e9-69a1-4b3d-869c-b4fcadd475f3",
   "metadata": {},
   "outputs": [],
   "source": [
    "class CNN(nn.Module):\n",
    "    def __init__(self):\n",
    "        super().__init__()\n",
    "        self.relu = nn.ReLU()\n",
    "        self.flatten = nn.Flatten()\n",
    "        \n",
    "        self.conv1 = nn.Conv2d(1, 64, 3, padding=1)   # N 64  28 28\n",
    "        self.pool1 = nn.MaxPool2d(2)                  # N 64  14 14\n",
    "        self.conv2 = nn.Conv2d(64, 128, 3, padding=0) # N 128 12 12\n",
    "        self.pool2 = nn.MaxPool2d(2)                  # N 128  6  6\n",
    "        self.lin1 = nn.Linear(128*6*6, 1024)\n",
    "        self.lin2 = nn.Linear(1024, 10)\n",
    "\n",
    "    def forward(self, x):\n",
    "        out = self.relu(self.conv1(x))\n",
    "        out = self.pool1(out)\n",
    "        out = self.relu(self.conv2(out))\n",
    "        out = self.pool2(out)\n",
    "        out = self.flatten(out)\n",
    "        out = self.lin1(out)\n",
    "        out = self.lin2(out)\n",
    "        return out"
   ]
  },
  {
   "cell_type": "code",
   "execution_count": 5,
   "id": "49b43fc7-27dd-458d-9781-e1f854ca1afe",
   "metadata": {},
   "outputs": [
    {
     "name": "stdout",
     "output_type": "stream",
     "text": [
      "Epoch: [1/10], loss: 0.17029022024013102\n",
      "Epoch: [2/10], loss: 0.047724027594861884\n",
      "Epoch: [3/10], loss: 0.03373051142552867\n",
      "Epoch: [4/10], loss: 0.02725422229268588\n",
      "Epoch: [5/10], loss: 0.020018086722120642\n",
      "Epoch: [6/10], loss: 0.01858218543425513\n",
      "Epoch: [7/10], loss: 0.012712505349967007\n",
      "Epoch: [8/10], loss: 0.01278484737413237\n",
      "Epoch: [9/10], loss: 0.012277075772726676\n",
      "Epoch: [10/10], loss: 0.010265988356695743\n"
     ]
    }
   ],
   "source": [
    "model = CNN().to(device)\n",
    "\n",
    "criterion = nn.CrossEntropyLoss()\n",
    "optimizer = optim.Adam(model.parameters(), lr=lr)\n",
    "\n",
    "for epoch in range(n_epochs):\n",
    "    model.train()\n",
    "    running_loss = 0.0\n",
    "    for i, (images, labels) in enumerate(train_load):\n",
    "        images = images.to(device)\n",
    "        labels = labels.to(device)\n",
    "\n",
    "        optimizer.zero_grad()\n",
    "        \n",
    "        predict = model(images)\n",
    "        loss = criterion(predict, labels)\n",
    "        loss.backward()\n",
    "        \n",
    "        optimizer.step()\n",
    "\n",
    "        running_loss += loss.item()\n",
    "\n",
    "    epoch_loss = running_loss / len(train_load)\n",
    "\n",
    "    print(f\"Epoch: [{epoch+1}/{n_epochs}], loss: {epoch_loss}\")"
   ]
  },
  {
   "cell_type": "code",
   "execution_count": 6,
   "id": "4c51a416-8635-47d2-b44d-6ca27b8bedef",
   "metadata": {},
   "outputs": [
    {
     "name": "stdout",
     "output_type": "stream",
     "text": [
      "Accuracy: 99.06%\n"
     ]
    }
   ],
   "source": [
    "import time\n",
    "\n",
    "with torch.no_grad():\n",
    "    model.eval()\n",
    "    correct = 0\n",
    "    \n",
    "    for images, labels in test_load:  \n",
    "        images = images.to(device)\n",
    "        labels = labels.to(device)\n",
    "        \n",
    "        outputs = model(images)\n",
    "        _, preds = torch.max(outputs, 1)\n",
    "\n",
    "        ## Plotting incorrect images\n",
    "        # incorrect_indices = torch.where(preds != labels)[0].tolist()\n",
    "        # \n",
    "        # if len(incorrect_indices) > 0:\n",
    "        #     plt.ion()\n",
    "        #     for i in incorrect_indices:\n",
    "        #         \n",
    "        #         plt.imshow(images[i][0].cpu(), cmap='gray')\n",
    "        #         plt.title(f'Pred: {preds[i].item()}, True: {labels[i].item()}')\n",
    "        #         plt.draw()\n",
    "        #         plt.pause(1)\n",
    "        #         plt.clf()\n",
    "        #     plt.ioff()\n",
    "        \n",
    "        correct += (preds == labels).sum().item()\n",
    "\n",
    "    acc = correct / len(test_load.dataset)\n",
    "    print(f\"Accuracy: {acc * 100:.2f}%\")"
   ]
  },
  {
   "cell_type": "code",
   "execution_count": null,
   "id": "9dbe308f-d386-405c-b17f-117efa262e20",
   "metadata": {},
   "outputs": [],
   "source": []
  },
  {
   "cell_type": "code",
   "execution_count": null,
   "id": "3fac237e-bffd-44cd-b27e-782768a3ad8d",
   "metadata": {},
   "outputs": [],
   "source": []
  },
  {
   "cell_type": "code",
   "execution_count": null,
   "id": "1816d8d6-ef9f-40ad-9aa0-358191fa48fd",
   "metadata": {},
   "outputs": [],
   "source": []
  }
 ],
 "metadata": {
  "kernelspec": {
   "display_name": "Python 3 (ipykernel)",
   "language": "python",
   "name": "python3"
  },
  "language_info": {
   "codemirror_mode": {
    "name": "ipython",
    "version": 3
   },
   "file_extension": ".py",
   "mimetype": "text/x-python",
   "name": "python",
   "nbconvert_exporter": "python",
   "pygments_lexer": "ipython3",
   "version": "3.11.10"
  }
 },
 "nbformat": 4,
 "nbformat_minor": 5
}
